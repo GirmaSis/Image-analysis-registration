{
 "cells": [
  {
   "cell_type": "code",
   "execution_count": null,
   "id": "cb2ffc9d",
   "metadata": {},
   "outputs": [],
   "source": [
    "import numpy as np\n",
    "import matplotlib.cm as cm\n",
    "from PIL import Image as PILImage\n",
    "from IPython.display import display, Image as IPImage\n",
    "\n",
    "# Load CSV data and convert semicolons to periods\n",
    "def load_csv(filename):\n",
    "    data_list = []\n",
    "    with open(filename, 'r', encoding='utf-8-sig') as f:\n",
    "        for line in f:\n",
    "            row = [float(val.replace(';', '.')) for val in line.split(',')]\n",
    "            data_list.append(row)\n",
    "    return np.array(data_list)\n",
    "\n",
    "# Convert a CSV file to a colorful image\n",
    "def csv_to_colorful_image(csv_filename):\n",
    "    # Load the CSV data\n",
    "    csv_data = load_csv(csv_filename)\n",
    "    \n",
    "    # Normalize the data to [0, 255]\n",
    "    normalized_data = (255 * (csv_data - csv_data.min()) / (csv_data.max() - csv_data.min())).astype(np.uint8)\n",
    "    \n",
    "    # Apply the jet colormap\n",
    "    colorful_data = (cm.jet(normalized_data / 255.0) * 255).astype(np.uint8)\n",
    "    \n",
    "    # Convert to PIL Image and return\n",
    "    return PILImage.fromarray(colorful_data[:, :, :3], 'RGB')  # Exclude the alpha channel\n",
    "\n",
    "# Convert a list of CSV files into a single GIF\n",
    "def csvs_to_gif(csv_filenames, gif_filename):\n",
    "    images = [csv_to_colorful_image(filename) for filename in csv_filenames]\n",
    "    images[0].save(gif_filename, save_all=True, append_images=images[1:], optimize=False, duration=1000, loop=0)\n",
    "\n",
    "# List of CSV files\n",
    "csv_files = [\n",
    "    'scone_1.csv',\n",
    "    'mcone_2.csv',\n",
    "    'lcone_3.csv',\n",
    "    'rhodopic_4.csv',\n",
    "    'iprgc_5.csv'\n",
    "]\n",
    "\n",
    "# Function to create the GIF\n",
    "csvs_to_gif(csv_files, 'five_images_930.gif')\n",
    "print('Success, All five circadiometer measurements GIF is generated!')\n",
    "\n",
    "# Display the generated GIF\n",
    "display(IPImage(filename='five_images_930.gif'))\n"
   ]
  },
  {
   "cell_type": "code",
   "execution_count": null,
   "id": "11ef0343",
   "metadata": {},
   "outputs": [],
   "source": []
  }
 ],
 "metadata": {
  "kernelspec": {
   "display_name": "Python 3 (ipykernel)",
   "language": "python",
   "name": "python3"
  },
  "language_info": {
   "codemirror_mode": {
    "name": "ipython",
    "version": 3
   },
   "file_extension": ".py",
   "mimetype": "text/x-python",
   "name": "python",
   "nbconvert_exporter": "python",
   "pygments_lexer": "ipython3",
   "version": "3.11.4"
  }
 },
 "nbformat": 4,
 "nbformat_minor": 5
}
